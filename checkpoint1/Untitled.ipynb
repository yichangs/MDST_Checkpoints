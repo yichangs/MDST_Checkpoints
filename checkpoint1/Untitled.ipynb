{
 "cells": [
  {
   "cell_type": "code",
   "execution_count": 19,
   "id": "incident-swedish",
   "metadata": {},
   "outputs": [],
   "source": [
    "import preprocess"
   ]
  },
  {
   "cell_type": "code",
   "execution_count": 32,
   "id": "organic-franchise",
   "metadata": {},
   "outputs": [
    {
     "name": "stderr",
     "output_type": "stream",
     "text": [
      "<ipython-input-32-ee7caea32650>:42: FutureWarning: The default value of regex will change from True to False in a future version.\n",
      "  df[col] = df[col].str.replace('[^a-zA-Z]', ' ')\n",
      "<ipython-input-32-ee7caea32650>:37: FutureWarning: The default value of regex will change from True to False in a future version.\n",
      "  df.columns = df.columns.str.replace(r\"\\(.*\\)\",\"\")\n"
     ]
    }
   ],
   "source": [
    "\"\"\"\n",
    "Checkpoint 1b\n",
    "\n",
    "*First complete the steps in checkpoint1a.pdf\n",
    "\n",
    "Here you will create a script to preprocess the data given in starbucks.csv. You may want to use\n",
    "a jupyter notebook or python terminal to develop your code and test each function as you go... \n",
    "you can import this file and its functions directly:\n",
    "\n",
    "    - jupyter notebook: include the lines `%autoreload 2` and `import preprocess`\n",
    "                        then just call preprocess.remove_percents(df) to test\n",
    "                        \n",
    "    - python terminal: run `from importlib import reload` and `import preprocess`\n",
    "                       each time you modify this file, run `reload(preprocess)`\n",
    "\n",
    "Once you are finished with this program, you should run `python preprocess.py` from the terminal.\n",
    "This should load the data, perform preprocessing, and save the output to the data folder.\n",
    "\n",
    "\"\"\"\n",
    "import pandas as pd\n",
    "\n",
    "def remove_percents(df, col):\n",
    "    df[col] = df[col].str.rstrip('%').astype('float') / 100.0\n",
    "    return df\n",
    "\n",
    "def fill_zero_iron(df):\n",
    "    df['Iron (% DV)'].fillna(0, inplace = True)\n",
    "    return df\n",
    "    \n",
    "def fix_caffeine(df):\n",
    "    df['Caffeine (mg)'].fillna(0, inplace = True)\n",
    "    df['Caffeine (mg)'].replace(to_replace = 'Varies', value = 70, method = None, inplace = True)\n",
    "    return df\n",
    "\n",
    "def standardize_names(df):\n",
    "    df.columns = df.columns.str.lower()\n",
    "    df.columns = df.columns.str.replace(r\"\\(.*\\)\",\"\")\n",
    "    return df\n",
    "\n",
    "def fix_strings(df, col):\n",
    "    df[col] = df[col].str.lower()\n",
    "    df[col] = df[col].str.replace('[^a-zA-Z]', ' ')\n",
    "    \n",
    "    return df\n",
    "\n",
    "\n",
    "def main():\n",
    "    \n",
    "    # first, read in the raw data\n",
    "    df = pd.read_csv('../data/starbucks.csv')\n",
    "    \n",
    "    # the columns below represent percent daily value and are stored as strings with a percent sign, e.g. '0%'\n",
    "    # complete the remove_percents function to remove the percent symbol and convert the columns to a numeric type\n",
    "    pct_DV = ['Vitamin A (% DV)', 'Vitamin C (% DV)', 'Calcium (% DV)', 'Iron (% DV)']\n",
    "    for col in pct_DV:\n",
    "        df = remove_percents(df, col)\n",
    "    \n",
    "    # the column 'Iron (% DV)' has missing values when the drink has no iron\n",
    "    # complete the fill_zero_iron function to fix this\n",
    "    df = fill_zero_iron(df)\n",
    "\n",
    "    # the column 'Caffeine (mg)' has some missing values and some 'varies' values\n",
    "    # complete the fix_caffeine function to deal with these values\n",
    "    # note: you may choose to fill in the values with the mean/median, or drop those values, etc.\n",
    "    df = fix_caffeine(df)\n",
    "    \n",
    "    # the columns below are string columns... starbucks being starbucks there are some fancy characters and symbols in their names\n",
    "    # complete the fix_strings function to convert these strings to lowercase and remove non-alphabet characters\n",
    "    names = ['Beverage_category', 'Beverage']\n",
    "    for col in names:\n",
    "        df = fix_strings(df, col)\n",
    "    \n",
    "    # the column names in this data are clear but inconsistent\n",
    "    # complete the standardize_names function to convert all column names to lower case and remove the units (in parentheses)\n",
    "    df = standardize_names(df)\n",
    "    \n",
    "    # now that the data is all clean, save your output to the `data` folder as 'starbucks_clean.csv'\n",
    "    # you will use this file in checkpoint 2\n",
    "    \n",
    "    \n",
    "\n",
    "if __name__ == \"__main__\":\n",
    "    main()\n"
   ]
  },
  {
   "cell_type": "code",
   "execution_count": null,
   "id": "floating-decline",
   "metadata": {},
   "outputs": [],
   "source": []
  }
 ],
 "metadata": {
  "kernelspec": {
   "display_name": "Python 3",
   "language": "python",
   "name": "python3"
  },
  "language_info": {
   "codemirror_mode": {
    "name": "ipython",
    "version": 3
   },
   "file_extension": ".py",
   "mimetype": "text/x-python",
   "name": "python",
   "nbconvert_exporter": "python",
   "pygments_lexer": "ipython3",
   "version": "3.8.5"
  }
 },
 "nbformat": 4,
 "nbformat_minor": 5
}
